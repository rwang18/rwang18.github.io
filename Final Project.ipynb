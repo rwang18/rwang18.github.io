{
 "cells": [
  {
   "cell_type": "markdown",
   "metadata": {},
   "source": [
    "![caption](files/poker_title.jpg)"
   ]
  },
  {
   "cell_type": "markdown",
   "metadata": {},
   "source": [
    "<h1 align=\"center\">Predicting Winning Play Styles in Texas Hold'em </h1>\n",
    "<h3 align=\"center\">Raymond Wang </h3>\n",
    "\n",
    "## Background\n",
    "Poker is a very common family of card games where players wager money based on the strength of their hand. Texas Hold'em is the most popular variant of poker and is played among friends and in casinos, in person and online, throughout the world. The rules of Texas Hold'em are simple. Players are each dealt 2 cards and are competing to make the best hand possible using their own cards and the five cards displayed on the table. The different poker hands and ranks can be found <a href=\"https://www.cardplayer.com/rules-of-poker/hand-rankings\">here</a>. \n",
    "\n",
    "In Texas Hold'em, there are multiple rounds where players can either: \n",
    "<ul>\n",
    "    <li>check (no bet)</li>\n",
    "    <li>call (match a bet)</li>\n",
    "    <li>raise (increase the bet)</li>\n",
    "    <li>fold (forfeit hand)</li>\n",
    "</ul>\n",
    "These options are frequently called actions. In competitive poker play, there are two automatic bets that are assigned based on the players' positions at the poker table. The small blind, player to the left of the dealer, is required to pay a fee based on the game type. The big blind, or player to the left of the small blind, is required to pay around double the small blind fee. This fee is required so that action is guaranteed. The rounds in poker are called:\n",
    "<ul>\n",
    "    <li>Preflop - prior to the flop, no additional cards are shown on the table</li>\n",
    "    <li>Flop - after the first three cards are exposed </li>\n",
    "    <li>Turn - after the fourth card is exposed</li>\n",
    "    <li>River - after the final fifth card is exposed. This is the last round before showdown</li>\n",
    "</ul>\n",
    "The last player left in the hand or the player with the best hand after the River wins all of the bets, or the pot. For more information on how to play Texas Hold'em please refer to this <a href=\"https://bicyclecards.com/how-to-play/texas-holdem-poker/\">tutorial</a> by Bicycle. \n",
    "\n",
    "Poker, by nature, is a game of probability and psychology. By hedging your bets and bluffing you could either win or lose a lot of money. Understanding your own play style and your opponents' play styles are key to winning. There are certain metrics of measuring poker success. One of the most common metrics is Big Blinds Won per 100 Hands. If you win a large number of Big Blinds, that means you are making money at the poker table, which is the ultimate goal in Texas Hold'em. There also exists metrics that can determine a player's play style. The three metrics that are most common are: \n",
    "<ul>\n",
    "    <li>Voluntarily Put &#36; in pot (VPIP). This statistic measures how often a player puts money into the pot before the flop. The big blind and small blind fees are not included in this fee. A lower VPIP corresponds to a tigher player, meaning a player that only plays great starting hands. A higher VPIP typically indicates that a player is looser, or is willing to play more combinations of starting hands. </li>\n",
    "    <li>Preflop Raise (PFR). This statistic measures how often a player raises before the flop. This statistic usually measures how aggressive a player is. A higher PFR indicates that a player is more aggressive. Meanwhile, a low PFR indicates that a player is timid.</li>\n",
    "    <li>Postflop Aggression Frequency (Agg). This statistic is very similar to PFR but also offers insight to a players pyschological profile. Agg is measured on how often a player raises after the flop. </li>\n",
    "</ul>\n",
    "A deeper understanding of these metrics can be found <a href=\"https://pokercopilot.com/essential-poker-statistics\">here</a>.\n",
    "\n",
    "In order to analyze how these metrics correspond with winning, I will be using the online casino client logs found <a href=\"https://www.kaggle.com/smeilz/poker-holdem-games?select=Export+Holdem+Manager+2.0+12302016144830.txt\">here</a>. Though these logs were gathered by a single player, it shows outcomes from all players at the table. With this in mind, there should be sufficient data to uncover trends. Since the data appears as logs, a large amount of tidying will have to occur. After tidying the data, I will perform some exploratory data analysis on the players in this dataset. Finally, I will use regression to determine how players' VPIP, PFR, and Agg correspond with winning in poker. Hopefully, I will be able to uncover trends that can guide beginner players in the game of Texas Hold'em. For more professional poker players, I hope that my findings can help them reevaluate their play strategy. \n",
    "\n"
   ]
  },
  {
   "cell_type": "markdown",
   "metadata": {},
   "source": [
    "## Getting Started\n",
    "I will be using Python 3 and a few imported libraries in this project. The libraries can be seen below."
   ]
  },
  {
   "cell_type": "code",
   "execution_count": 1,
   "metadata": {},
   "outputs": [],
   "source": [
    "import pandas as pd\n",
    "import numpy as np\n",
    "import matplotlib.pyplot as plt\n",
    "import re\n",
    "from sklearn.linear_model import LinearRegression\n",
    "import statsmodels.api as sm"
   ]
  },
  {
   "cell_type": "markdown",
   "metadata": {},
   "source": [
    "## Tidying the Data\n",
    "\n",
    "### Step 1: Download, Import, and Gather Data\n",
    "The dataset used in this project was downloaded from Kaggle at <a href=\"https://www.kaggle.com/smeilz/poker-holdem-games?select=Export+Holdem+Manager+2.0+12302016144830.txt\">this link</a>. This .txt file contains log data from 2468 poker hands. The data was downloaded locally and renamed to \"hand_data.txt\". Each line was read into a list in order to faciliate parsing. An example of how the file appears can be seen below."
   ]
  },
  {
   "cell_type": "code",
   "execution_count": 2,
   "metadata": {},
   "outputs": [],
   "source": [
    "# Open file and split each line into a list\n",
    "with open(\"hand_data.txt\") as f: \n",
    "    lines = f.read().splitlines()"
   ]
  },
  {
   "cell_type": "markdown",
   "metadata": {},
   "source": [
    "### Step 2: Parse for Meaningful Data\n",
    "Now that the logs are imported, the next step is parse the data for meaningful data. Meaningful data includes the Game ID, player IDs, blind information, starting stacks, actions, and winnings. A pandas dataframe will be used to collect this data. The Dataframe will follow the following columns:\n",
    "<p style=\"text-align:center\">(gameID, playerID, smallBlindAmount, bigBlindAmount, startingStack, smallBlind?, bigBlind?, preflopAction, preflopAmount, flopAction, flopAmount, turnAction, turnAmount, riverAction, riverAmount, finalWinnings)</p>\n",
    "\n",
    "Parsing through the data allows us to extract only the information that is necessary in our analysis. Other fields can be conveniently ignored. The fields that are extracted will help up in analyzing VPIP, PFR, and Agg. In order to succesfully parse this data, regular expressions must be used to extract only the information we need. The Regular Expression library will prove to be instrumental. "
   ]
  },
  {
   "cell_type": "code",
   "execution_count": null,
   "metadata": {},
   "outputs": [],
   "source": [
    "# define a list to store all data\n",
    "data_list = []\n",
    "# define a tuple to hold temporary data points\n",
    "data_point = ()\n",
    "# iterate through the lines of data\n",
    "gameID = 0\n",
    "smallBlind = 0.0\n",
    "bigBlind = 0.0\n",
    "for line in lines:  \n",
    "    # Game ID and blind information\n",
    "    pattern = '^Game ID: (\\d+) (\\d*\\.?\\d+)/(\\d*\\.?\\d+)'\n",
    "    match = re.search(pattern, line)\n",
    "    if match:\n",
    "        gameID = int(match.group(1))\n",
    "        smallBlind = float(match.group(2))\n",
    "        bigBlind = float(match.group(3))\n",
    "    # Player Information\n",
    "    pattern = '^Seat \\d+: (\\S+) \\((\\d*\\.?\\d+)\\)'\n",
    "    match = re.search(pattern, line)\n",
    "    if match:\n",
    "        data_point = (gameID, smallBlind, bigBlind, match.group(1), float(match.group(2)))\n",
    "        data_list.append(data_point)\n",
    "# Add this data to a DataFrame\n",
    "data = pd.DataFrame(data_list)\n",
    "# Create additional columns and rename\n",
    "data[\"smallBlind?\"] = False\n",
    "data[\"bigBlind?\"] = False\n",
    "data[\"preflopAction\"] = \"None\"\n",
    "data[\"preflopAmount\"] = 0.0\n",
    "data[\"flopAction\"] = \"None\"\n",
    "data[\"flopAmount\"] = 0.0\n",
    "data[\"turnAction\"] = \"None\"\n",
    "data[\"turnAmount\"] = 0.0\n",
    "data[\"riverAction\"] = \"None\"\n",
    "data[\"riverAmount\"] = 0.0\n",
    "data[\"finalWinnings\"] = 0.0\n",
    "data = data.rename(columns={0: \"gameID\", 1: \"smallBlindAmount\", 2: \"bigBlindAmount\", 3: \"playerID\", 4: \"startingStack\"})\n",
    "\n",
    "# Parse the remaining data\n",
    "gameID = 0\n",
    "state = 0\n",
    "\"\"\"\n",
    "Need to use states in order to determine what round action is occurring on. \n",
    "States: \n",
    "0 : preflop\n",
    "1 : flop\n",
    "2 : turn\n",
    "3 : river\n",
    "\"\"\"\n",
    "for line in lines:\n",
    "    # State Determination\n",
    "    preflop_pattern = 'Game started at:'\n",
    "    flop_pattern = '\\*\\*\\* FLOP \\*\\*\\*:'\n",
    "    turn_pattern = '\\*\\*\\* TURN \\*\\*\\*:'\n",
    "    river_pattern = '\\*\\*\\* RIVER \\*\\*\\*:'\n",
    "    if re.search(preflop_pattern, line):\n",
    "        state = 0\n",
    "    elif re.search(flop_pattern, line):\n",
    "        state = 1\n",
    "    elif re.search(turn_pattern, line):\n",
    "        state = 2\n",
    "    elif re.search(river_pattern, line):\n",
    "        state = 3\n",
    "        \n",
    "    \n",
    "    # Game ID and blind information\n",
    "    pattern = '^Game ID: (\\d+) (\\d*\\.?\\d+)/(\\d*\\.?\\d+)'\n",
    "    match = re.search(pattern, line)\n",
    "    if match:\n",
    "        gameID = int(match.group(1))\n",
    "        \n",
    "    # smallBlind? bigBlind?\n",
    "    pattern = '^Player (\\S+) has small blind'\n",
    "    match = re.search(pattern, line)\n",
    "    if match:\n",
    "        playerID = match.group(1)\n",
    "        data.loc[(data[\"gameID\"] == gameID) & (data[\"playerID\"] == playerID), \"smallBlind?\"] = True\n",
    "    pattern = '^Player (\\S+) has big blind'\n",
    "    match = re.search(pattern, line)\n",
    "    if match:\n",
    "        playerID = match.group(1)\n",
    "        data.loc[(data[\"gameID\"] == gameID) & (data[\"playerID\"] == playerID), \"bigBlind?\"] = True\n",
    "    \n",
    "    # Action\n",
    "    pattern = '^Player (\\S+) (bets|folds|calls|raises)\\s?\\(?(\\d*\\.?\\d+)?\\)?'\n",
    "    match = re.search(pattern, line)\n",
    "    if match:\n",
    "        playerID = match.group(1)\n",
    "        action = match.group(2)\n",
    "        if state == 0:\n",
    "            if match.group(3) is None:\n",
    "                data.loc[(data[\"gameID\"] == gameID) & (data[\"playerID\"] == playerID), \"preflopAction\"] = action\n",
    "            else:\n",
    "                data.loc[(data[\"gameID\"] == gameID) & (data[\"playerID\"] == playerID), \"preflopAction\"] = action\n",
    "                amount = float(match.group(3))\n",
    "                data.loc[(data[\"gameID\"] == gameID) & (data[\"playerID\"] == playerID), \"preflopAmount\"] = amount\n",
    "        if state == 1:\n",
    "            if match.group(3) is None:\n",
    "                data.loc[(data[\"gameID\"] == gameID) & (data[\"playerID\"] == playerID), \"flopAction\"] = action\n",
    "            else:\n",
    "                data.loc[(data[\"gameID\"] == gameID) & (data[\"playerID\"] == playerID), \"flopAction\"] = action\n",
    "                amount = float(match.group(3))\n",
    "                data.loc[(data[\"gameID\"] == gameID) & (data[\"playerID\"] == playerID), \"flopAmount\"] = amount\n",
    "        if state == 2:\n",
    "            if match.group(3) is None:\n",
    "                data.loc[(data[\"gameID\"] == gameID) & (data[\"playerID\"] == playerID), \"turnAction\"] = action\n",
    "            else:\n",
    "                data.loc[(data[\"gameID\"] == gameID) & (data[\"playerID\"] == playerID), \"turnAction\"] = action\n",
    "                amount = float(match.group(3))\n",
    "                data.loc[(data[\"gameID\"] == gameID) & (data[\"playerID\"] == playerID), \"turnAmount\"] = amount\n",
    "        if state == 3:\n",
    "            if match.group(3) is None: \n",
    "                data.loc[(data[\"gameID\"] == gameID) & (data[\"playerID\"] == playerID), \"riverAction\"] = action\n",
    "            else:\n",
    "                data.loc[(data[\"gameID\"] == gameID) & (data[\"playerID\"] == playerID), \"riverAction\"] = action\n",
    "                amount = float(match.group(3))\n",
    "                data.loc[(data[\"gameID\"] == gameID) & (data[\"playerID\"] == playerID), \"riverAmount\"] = amount\n",
    "    \n",
    "    # finalWinnings of the hand\n",
    "    pattern = 'Player (\\S+).*(Wins|Loses): (\\d*\\.?\\d+)?'\n",
    "    match = re.search(pattern, line)\n",
    "    if match:\n",
    "        playerID = match.group(1)\n",
    "        status = match.group(2)\n",
    "        amount = float(match.group(3))\n",
    "        if status == \"Wins\":\n",
    "             data.loc[(data[\"gameID\"] == gameID) & (data[\"playerID\"] == playerID), \"finalWinnings\"] = amount\n",
    "        else:\n",
    "            data.loc[(data[\"gameID\"] == gameID) & (data[\"playerID\"] == playerID), \"finalWinnings\"] = amount * -1.0\n",
    "data.head(20)"
   ]
  },
  {
   "cell_type": "markdown",
   "metadata": {},
   "source": [
    "Now that the data is made readily available for analysis in the form of a convenient DataFrame, we are almost ready to move onto Exploratory Data Analysis. However, there is still one last step...\n",
    "\n",
    "### Step 3: Wrapping up the Data\n",
    "One flaw that exists is that the final winnings are on a per hand basis. In order to analyze trends we should create a running sum of winnings for each player. To do so, we will create a new DataFrame that contains playerIDs and their cumulative winnings. "
   ]
  },
  {
   "cell_type": "code",
   "execution_count": null,
   "metadata": {},
   "outputs": [],
   "source": [
    "uniq_players = data[\"playerID\"].unique()\n",
    "win_df = pd.DataFrame(uniq_players, columns=[\"playerID\"])\n",
    "win_df[\"cumulativeWinnings\"] = 0.0\n",
    "for index, row in win_df.iterrows():\n",
    "    playerID = row[\"playerID\"]\n",
    "    lis = data.loc[data[\"playerID\"] == playerID][\"finalWinnings\"]\n",
    "    cumulative = sum(lis)\n",
    "    win_df.at[index, \"cumulativeWinnings\"] = round(cumulative, 2)\n",
    "win_df.head(10)"
   ]
  },
  {
   "cell_type": "markdown",
   "metadata": {},
   "source": [
    "This dataset was published by the player with the playerID \"IlxxxlI\", who, as we can see, has a pretty high cumulative winnings statistic. With this information, now we can move onto EDA. \n",
    "\n",
    "## Exploratory Data Analysis\n",
    "To begin with our data analysis, we will attempt to uncover trends by visualizing the data. The DataFrame we made in the last section is a great place to start. Plotting the cumulativeWinnings for each player can give us some insight into which players are the most profitable. The best way to represent this trend is with a bar plot. However, since there are too many data points, I will be filtering for the biggest winners and losers. "
   ]
  },
  {
   "cell_type": "code",
   "execution_count": null,
   "metadata": {},
   "outputs": [],
   "source": [
    "new_df = win_df[(win_df[\"cumulativeWinnings\"] >= 150) | (win_df[\"cumulativeWinnings\"] <= -200)]\n",
    "players = new_df[\"playerID\"]\n",
    "winnings = new_df[\"cumulativeWinnings\"]\n",
    "plt.figure(figsize = (24, 10))\n",
    "barlist = plt.bar(players, winnings, align='center')\n",
    "plt.xticks(players, rotation='vertical')\n",
    "plt.ylabel('winnings')\n",
    "plt.title(\"Poker Winnings by Player\")\n",
    "plt.show()"
   ]
  },
  {
   "cell_type": "markdown",
   "metadata": {},
   "source": [
    "From the graph, we can see that players aleaga and IlxxxlI were the most profitable. Meanwhile lia007, MadLifeGrinder, AironVega, and meandkids lost the most money during their poker sessions. \n",
    "\n",
    "### Data Transformation\n",
    "With these results, we can hypothesize that there are some quantifiable play styles that result in certain players making more and some players losing more. There are 3 measures that could explain this disparity: \n",
    "\n",
    "#### VPIP\n",
    "VPIP is measured as a player's frequency of calling, betting, or raising before the flop. A higher VPIP percentage indicates that a player is looser. A lower VPIP indicates that a player is tighter. According to <a href=\"https://pokercopilot.com/essential-poker-statistics\">Poker Copilot</a>, between 15% and 20% is a good VPIP. The formula for calculating VPIP is as follows:\n",
    "<p style=\"text-align:center\">(# of raises and bets preflop)/(# of hands played)</p>"
   ]
  },
  {
   "cell_type": "code",
   "execution_count": null,
   "metadata": {},
   "outputs": [],
   "source": [
    "vpip_df = data.groupby([\"playerID\", \"preflopAction\"]).size().unstack().fillna(0)\n",
    "player_freq = data[\"playerID\"].value_counts().sort_index()\n",
    "vpip_df[\"handsPlayed\"] = player_freq\n",
    "win_df = win_df.sort_values(\"playerID\").set_index(vpip_df.index)\n",
    "vpip_df[\"cumulativeWinnings\"] = win_df[\"cumulativeWinnings\"]"
   ]
  },
  {
   "cell_type": "markdown",
   "metadata": {},
   "source": [
    "According to Poker Copilot, a minimum of 25 hands must be played to gain meaningful insight on play style. For this reason, in this DataFrame and all following DataFrames, players who have played less than 25 hands will be dropped from the analysis. Now, in order to see if there exists a correlation between VPIP and winning, we will plot the two against each other."
   ]
  },
  {
   "cell_type": "code",
   "execution_count": null,
   "metadata": {},
   "outputs": [],
   "source": [
    "vpip_df = vpip_df[vpip_df[\"handsPlayed\"] >= 25]\n",
    "vpip_df[\"VPIP\"] = 0.0\n",
    "for index, row in vpip_df.iterrows():\n",
    "    put = row[\"calls\"] + row[\"raises\"]\n",
    "    hands = float(row[\"handsPlayed\"])\n",
    "    vpip = 100.0 * put / hands\n",
    "    vpip_df.at[index, \"VPIP\"] = vpip\n",
    "x = vpip_df[\"VPIP\"]\n",
    "y = vpip_df[\"cumulativeWinnings\"]\n",
    "plt.figure(figsize = (12, 8))\n",
    "plt.scatter(x, y)\n",
    "plt.title(\"Winnings vs. VPIP\")\n",
    "plt.xlabel(\"VPIP %\")\n",
    "plt.ylabel(\"Winnings $\")\n",
    "plt.show()"
   ]
  },
  {
   "cell_type": "markdown",
   "metadata": {},
   "source": [
    "As we can see from the plot, players with VPIPs around 18-20% have the highest winning sums. However, the players who lost the most money also had VPIPs around this range. This signifies that VPIP may not be the most accurate quantifier to determine winning. "
   ]
  },
  {
   "cell_type": "markdown",
   "metadata": {},
   "source": [
    "#### PFR\n",
    "PFR is measured as a player's frequency of raising before the flop. A player's PFR cannot be higher than his or her VPIP. Poker Copilot defines a good PFR as being 2-3% lower than a player's VPIP. \n",
    "<p style=\"text-align:center\">(# of raises preflop)/(# of hands played)</p>"
   ]
  },
  {
   "cell_type": "code",
   "execution_count": null,
   "metadata": {},
   "outputs": [],
   "source": [
    "data_df = vpip_df\n",
    "data_df[\"PFR\"] = 0.0\n",
    "for index, row in data_df.iterrows():\n",
    "    put = row[\"raises\"]\n",
    "    hands = float(row[\"handsPlayed\"])\n",
    "    pfr = 100.0 * put / hands\n",
    "    vpip_df.at[index, \"PFR\"] = pfr\n",
    "x = data_df[\"PFR\"]\n",
    "y = data_df[\"cumulativeWinnings\"]\n",
    "plt.figure(figsize = (12, 8))\n",
    "plt.scatter(x, y)\n",
    "plt.title(\"Winnings vs. PFR\")\n",
    "plt.xlabel(\"PFR %\")\n",
    "plt.ylabel(\"Winnings $\")\n",
    "plt.show()"
   ]
  },
  {
   "cell_type": "markdown",
   "metadata": {},
   "source": [
    "Again, like the VPIP graph, the highest and lowest earners fall within the same range. The aforementioned range is between 10 and 16%. \n",
    "\n",
    "#### Agg\n",
    "Unlike VPIP and PFR, Agg measures a player's frequency of raising after the flop. A good Agg range is between 50% to 60%. The formula is as follows:\n",
    "<p style=\"text-align:center\">(# of raises postflop)/(# of hands played post flop)</p>"
   ]
  },
  {
   "cell_type": "code",
   "execution_count": null,
   "metadata": {},
   "outputs": [],
   "source": [
    "players = data[\"playerID\"].unique()\n",
    "players.sort(axis=0)\n",
    "temp_df = data.groupby([\"playerID\", \"flopAction\"]).size().unstack().fillna(0)\n",
    "temp_df2 = data.groupby([\"playerID\", \"turnAction\"]).size().unstack().fillna(0)\n",
    "temp_df3 = data.groupby([\"playerID\", \"riverAction\"]).size().unstack().fillna(0)\n",
    "agg_df = pd.DataFrame(players, columns=[\"playerID\"])\n",
    "agg_df[\"flopBets\"] = temp_df[\"bets\"].values\n",
    "agg_df[\"flopRaises\"] = temp_df[\"raises\"].values\n",
    "agg_df[\"turnBets\"] = temp_df2[\"bets\"].values\n",
    "agg_df[\"turnRaises\"] = temp_df2[\"raises\"].values\n",
    "agg_df[\"riverBets\"] = temp_df3[\"bets\"].values\n",
    "agg_df[\"riverRaises\"] = temp_df3[\"raises\"].values\n",
    "agg_df[\"total\"] = 0.0\n",
    "agg_df[\"Agg\"] = 0.0\n",
    "temp_df4 = data.groupby([\"playerID\", \"preflopAction\"]).size().unstack().fillna(0)\n",
    "player_freq = data[\"playerID\"].value_counts().sort_index()\n",
    "new_df = temp_df4\n",
    "new_df[\"hands\"] = player_freq.values\n",
    "new_df[\"played\"] = new_df[\"hands\"] - new_df[\"folds\"]\n",
    "agg_df[\"handsPlayed\"] = new_df[\"played\"].values\n",
    "for index, row in agg_df.iterrows():\n",
    "    total = row[\"flopBets\"] + row[\"flopRaises\"] + row[\"turnBets\"] + row[\"turnRaises\"] + row[\"riverBets\"] + row[\"riverRaises\"]\n",
    "    hands = row[\"handsPlayed\"]\n",
    "    if hands == 0:\n",
    "        agg = 0.0\n",
    "    else:\n",
    "        agg = 100.0 * total/hands\n",
    "    agg_df.at[index, \"total\"] = total\n",
    "    agg_df.at[index, \"Agg\"] = agg\n",
    "agg_df = agg_df[agg_df[\"handsPlayed\"] >= 25]\n",
    "agg_df[\"cumulativeWinnings\"] = 0.0\n",
    "agg_df.reset_index(inplace=True)\n",
    "for index, row in agg_df.iterrows():\n",
    "    playerID = row[\"playerID\"]\n",
    "    lis = data.loc[data[\"playerID\"] == playerID][\"finalWinnings\"]\n",
    "    cumulative = sum(lis)\n",
    "    agg_df.at[index, \"cumulativeWinnings\"] = round(cumulative, 2)\n",
    "x = agg_df[\"Agg\"]\n",
    "y = agg_df[\"cumulativeWinnings\"]\n",
    "plt.figure(figsize = (12, 8))\n",
    "plt.scatter(x, y)\n",
    "plt.title(\"Winnings vs. Agg\")\n",
    "plt.xlabel(\"Agg %\")\n",
    "plt.ylabel(\"Winnings $\")\n",
    "plt.show()"
   ]
  },
  {
   "cell_type": "markdown",
   "metadata": {},
   "source": [
    "\n",
    "\n",
    "Lastly, in order to standardize winnings and hedge against anomalies, we need a way to normalize winnings. A player could be doing pretty average in a low blind game then win a huge pot in a high blind game. This would signify an anomaly that could be protected against with the following method. \n",
    "#### Big Blinds Won / 100 Hands\n",
    "If this measure is postive, that means you are winning. If this is negative, you are not winning. In order to calculate Big Blinds Won / 100 Hands you use the following formula:\n",
    "<p style=\"text-align:center\">Sum[(Hand Winnings)/(100 * BigBlind)]</p>"
   ]
  },
  {
   "cell_type": "code",
   "execution_count": null,
   "metadata": {},
   "outputs": [],
   "source": [
    "data[\"winShare\"] = 0.0\n",
    "for index, row in data.iterrows():\n",
    "    winnings = row[\"finalWinnings\"]\n",
    "    bigBlind = row[\"bigBlindAmount\"]\n",
    "    winShare = winnings / (100 * bigBlind)\n",
    "    data.at[index, \"winShare\"] = winShare\n",
    "win_df.reset_index(inplace=True, drop=True)\n",
    "\n",
    "win_df[\"BBW/100\"] = 0.0\n",
    "for index, row in win_df.iterrows():\n",
    "    playerID = row[\"playerID\"]\n",
    "    lis = data.loc[data[\"playerID\"] == playerID][\"winShare\"]\n",
    "    cumulative = sum(lis)\n",
    "    win_df.at[index, \"BBW/100\"] = round(cumulative, 2)\n",
    "win_df.head()"
   ]
  },
  {
   "cell_type": "markdown",
   "metadata": {},
   "source": [
    "As you can see from above, the new Big Blinds Won / 100 Hands metric provides a normalized measure for success at the poker table. Now, we will re-examine the VPIR, PFR, and Agg metrics against Big Blinds Won / 100 Hands. For sake of analysis and convenience, I will only be recomputing these statistics with the players who played 25 or more post flop hands.  "
   ]
  },
  {
   "cell_type": "code",
   "execution_count": null,
   "metadata": {},
   "outputs": [],
   "source": [
    "vpip_df.columns = [0, 1, 2, 3, 4, 5, \"VPIP\"]\n",
    "vpip_df.drop(columns=[0, 1, 2, 3, 4, 5], axis=1, inplace=True)\n",
    "vpip_df.reset_index(inplace=True)\n",
    "data_df.columns = [0, 1, 2, 3, 4, 5, 6, \"PFR\"]\n",
    "data_df.drop(columns=[0, 1, 2, 3, 4, 5, 6], axis=1, inplace=True)\n",
    "data_df.reset_index(inplace=True)\n",
    "agg_df.columns = [0, \"playerID\", 2, 3, 4, 5, 6, 7, 8, \"Agg\", 9, 10]\n",
    "agg_df.drop(columns=[0, 2, 3, 4, 5, 6, 7, 8, 9, 10], axis=1, inplace=True)\n",
    "win_df.reset_index(inplace=True, drop=True)\n",
    "\n",
    "# new dataframe based on joined data from all three metrics\n",
    "new_df = pd.merge(win_df, vpip_df)\n",
    "new_df = pd.merge(new_df, data_df)\n",
    "new_df = pd.merge(new_df, agg_df)\n",
    "new_df.head(10)"
   ]
  },
  {
   "cell_type": "code",
   "execution_count": null,
   "metadata": {},
   "outputs": [],
   "source": [
    "x = new_df[\"VPIP\"]\n",
    "y = new_df[\"BBW/100\"]\n",
    "plt.figure(figsize = (12, 8))\n",
    "plt.scatter(x, y)\n",
    "plt.title(\"Big Blinds Won per 100 Hands vs. VPIP\")\n",
    "plt.xlabel(\"VPIP %\")\n",
    "plt.ylabel(\"Big Blinds Won per 100 Hands\")\n",
    "plt.show()\n",
    "\n",
    "\n",
    "x = new_df[\"PFR\"]\n",
    "y = new_df[\"BBW/100\"]\n",
    "plt.figure(figsize = (12, 8))\n",
    "plt.scatter(x, y)\n",
    "plt.title(\"Big Blinds Won per 100 Hands vs. PFR\")\n",
    "plt.xlabel(\"PFR %\")\n",
    "plt.ylabel(\"Big Blinds Won per 100 Hands\")\n",
    "plt.show()\n",
    "\n",
    "x = new_df[\"Agg\"]\n",
    "y = new_df[\"BBW/100\"]\n",
    "plt.figure(figsize = (12, 8))\n",
    "plt.scatter(x, y)\n",
    "plt.title(\"Big Blinds Won per 100 Hands vs. Agg\")\n",
    "plt.xlabel(\"Agg %\")\n",
    "plt.ylabel(\"Big Blinds Won per 100 Hands\")\n",
    "plt.show()"
   ]
  },
  {
   "cell_type": "markdown",
   "metadata": {},
   "source": [
    "While the data seems to be pretty standard, there exists a single outlier in each metric. Poker ultimately is somewhat luck-based, so the results may be skewed pretty heavily. But by analyzing the one outlier, it seems as if a good VPIP is around 17%, a good PFR is around 10%, and a good Agg is around 38%. There are many unknown factors present as well due to the nature of the data. The general shapes of the data do not seem to be polynomial or linear. \n",
    "\n",
    "\n",
    "## Machine Learning and Prediction Model\n",
    "Given what we know regarding these statistics, now we can try and train a model to predict the number of big blinds won per 100 hands given VPIP, PFR, and Agg. To do so, we use the Sci-Kit Learn library. Specifically, we will be attempting to establish a Linear Regression Model with VPIP, PFR, and Agg as independent variables and big blinds won per 100 hands as the dependent variable. My hope for this are not high. The data does not appear to be polynomial or linear, which makes training a predictive model very difficult. \n"
   ]
  },
  {
   "cell_type": "code",
   "execution_count": null,
   "metadata": {},
   "outputs": [],
   "source": [
    "X = new_df[[\"VPIP\", \"PFR\", \"Agg\"]]\n",
    "Y = new_df[\"BBW/100\"]\n",
    "\n",
    "regr = LinearRegression()\n",
    "regr.fit(X, Y)\n",
    "\n",
    "print('Intercept: \\n', regr.intercept_)\n",
    "print('Coefficients: \\n', regr.coef_)\n",
    "\n",
    "model = sm.OLS(Y, X).fit()\n",
    "pred = model.predict(X)\n",
    "\n",
    "model.summary()\n"
   ]
  },
  {
   "cell_type": "markdown",
   "metadata": {},
   "source": [
    "Based on the r^2 value from the statsmodel summary, the data has very little correlation with the model. I expected this since the poker hand data was skewed to begin with as it mainly tracks the play style of a single player. Additionally, some added problems include a large variance in the type of games played in the dataset. The play styles of players in a 0.5/1 small blind/ big blind game differs in a meaningful way from a 2.50/5 small blind/ big blind game. Since the dataset contained information from both of these game types, it becomes hard to succesfully correlated play style statistics like VPIP and Agg. Knowledge about the professional levels of poker experience of all players is assumed to be high. Beginner and intermediate players are usually not concerned about VPIP, PFR, and Agg, so there exists another degree of variance. Ultimately, finding higher quality data (which is not readily accessible online) and proccuring more data points could serve to improve these experimental results. \n",
    "\n",
    "## Conclusion\n",
    "After scraping the web for Texas Hold'em data points, some relevant and important statistical measures were observed. In order to consistently make money in poker, a player must represent him or herself well. Measures like VPIP, PFR, and Agg are all important poker statistics that can make you a better player, whether a beginner player, intermediate player, or professional player. \n",
    "\n",
    "The data set used proved to be unreliable, but given the circumstance, it was the only dataset that I could find. In order to truly uncover trends and build a predictive model to find success factors, more datapoints are necessary and less subjective data must be used. This dataset was collected by a single player based on his online casino experiences, which is not a great representation of poker players, as a whole. \n",
    "\n",
    "One thing that came from this analysis, though, was identifying a winning poker strategy for the player at hand. From the exploratory data analysis, it seems as if a good VPIP is around 17%, a good PFR is around 10%, and a good Agg is around 38%, as these frequencies worked well for the player. Analyzing your own play style, finding out your weaknesses and strengths, is crucial if you wish to make money while playing Texas Hold'em. Texas Hold'em is mainly a game of strategy and psychology, with a little bit of luck involved. By performing analysis like this on your own poker experiences, you can learn and build better strategies to win money in online casinos and in live games. "
   ]
  }
 ],
 "metadata": {
  "kernelspec": {
   "display_name": "Python 3",
   "language": "python",
   "name": "python3"
  },
  "language_info": {
   "codemirror_mode": {
    "name": "ipython",
    "version": 3
   },
   "file_extension": ".py",
   "mimetype": "text/x-python",
   "name": "python",
   "nbconvert_exporter": "python",
   "pygments_lexer": "ipython3",
   "version": "3.8.5"
  }
 },
 "nbformat": 4,
 "nbformat_minor": 4
}
